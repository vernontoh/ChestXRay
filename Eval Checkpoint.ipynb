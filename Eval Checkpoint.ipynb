{
 "cells": [
  {
   "cell_type": "code",
   "execution_count": null,
   "id": "d7f8137a",
   "metadata": {},
   "outputs": [],
   "source": [
    "import torch\n",
    "import numpy as np\n",
    "\n",
    "from utils import load_dataset, evaluate, compute_AUCs"
   ]
  },
  {
   "cell_type": "code",
   "execution_count": null,
   "id": "ebe34321",
   "metadata": {},
   "outputs": [],
   "source": [
    "PATH = 'Trained Models/naiveconv.pt'\n",
    "\n",
    "model = torch.load(PATH, map_location=torch.device('cuda'))\n",
    "model.eval()"
   ]
  },
  {
   "cell_type": "code",
   "execution_count": null,
   "id": "195c0b2e",
   "metadata": {},
   "outputs": [],
   "source": [
    "_, _, test_loader = load_dataset(64)"
   ]
  },
  {
   "cell_type": "code",
   "execution_count": null,
   "id": "83e0f5b8",
   "metadata": {},
   "outputs": [],
   "source": [
    "pos_weight = torch.tensor([9.719982661465107,\n",
    "                                 40.447330447330444,\n",
    "                                 8.425640640264522,\n",
    "                                 5.6423934376729905,\n",
    "                                 19.512704490080054,\n",
    "                                 17.73208919816543,\n",
    "                                 82.86770140428678,\n",
    "                                 21.162702906757268,\n",
    "                                 24.023998285836726,\n",
    "                                 48.68432479374729,\n",
    "                                 44.56279809220986,\n",
    "                                 66.5005931198102,\n",
    "                                 33.122599704579024,\n",
    "                                 493.92070484581495])\n",
    "\n",
    "criterion =  torch.nn.BCEWithLogitsLoss(pos_weight=pos_weight)\n",
    "device = 'cuda'\n",
    "\n",
    "eval_dict  = evaluate(model, test_loader, criterion, device)"
   ]
  },
  {
   "cell_type": "code",
   "execution_count": null,
   "id": "a433cdc3",
   "metadata": {},
   "outputs": [],
   "source": [
    "N_CLASSES = 14\n",
    "CLASS_NAMES = ['Atelectasis', 'Cardiomegaly', 'Effusion', 'Infiltration', 'Mass', 'Nodule', 'Pneumonia',\n",
    "               'Pneumothorax', 'Consolidation', 'Edema', 'Emphysema', 'Fibrosis', 'Pleural_Thickening', 'Hernia']\n",
    "\n",
    "print(f\"Eval loss is:{eval_dict['loss']}\")\n",
    "print(f\"Eval accuracy is:{eval_dict['acc']}\")\n",
    "print(f\"Eval f1 score is:{eval_dict['f1']}\")\n",
    "\n",
    "AUROCs = compute_AUCs(eval_dict['labels'], eval_dict['logits'])\n",
    "AUROC_avg = np.array(AUROCs).mean()\n",
    "print('The average AUROC is {AUROC_avg:.3f}'.format(AUROC_avg=AUROC_avg))\n",
    "for i in range(N_CLASSES):\n",
    "    print('The AUROC of {} is {}'.format(CLASS_NAMES[i], AUROCs[i]))"
   ]
  },
  {
   "cell_type": "code",
   "execution_count": null,
   "id": "2b1f76b6",
   "metadata": {},
   "outputs": [],
   "source": []
  }
 ],
 "metadata": {
  "kernelspec": {
   "display_name": "Python 3 (ipykernel)",
   "language": "python",
   "name": "python3"
  },
  "language_info": {
   "codemirror_mode": {
    "name": "ipython",
    "version": 3
   },
   "file_extension": ".py",
   "mimetype": "text/x-python",
   "name": "python",
   "nbconvert_exporter": "python",
   "pygments_lexer": "ipython3",
   "version": "3.9.13"
  }
 },
 "nbformat": 4,
 "nbformat_minor": 5
}
