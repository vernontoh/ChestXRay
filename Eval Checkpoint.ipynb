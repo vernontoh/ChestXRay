{
 "cells": [
  {
   "cell_type": "code",
   "execution_count": 1,
   "id": "d7f8137a",
   "metadata": {},
   "outputs": [],
   "source": [
    "import torch\n",
    "from models.naive_cnn import NaiveConvolutionNetwork\n",
    "from models.densenet import DenseNet\n",
    "from models.resnet import ResNet\n",
    "import numpy as np\n",
    "\n",
    "from utils import load_dataset, evaluate, compute_AUCs"
   ]
  },
  {
   "cell_type": "code",
   "execution_count": 2,
   "id": "ebe34321",
   "metadata": {},
   "outputs": [
    {
     "data": {
      "text/plain": [
       "NaiveConvolutionNetwork(\n",
       "  (layers): Sequential(\n",
       "    (0): Conv2d(3, 16, kernel_size=(3, 3), stride=(1, 1))\n",
       "    (1): ConvolutionBlock(\n",
       "      (conv): Conv2d(16, 16, kernel_size=(3, 3), stride=(1, 1), padding=same)\n",
       "      (batchnorm): BatchNorm2d(16, eps=1e-05, momentum=0.1, affine=True, track_running_stats=True)\n",
       "      (activation): ReLU()\n",
       "      (pooling): MaxPool2d(kernel_size=(2, 2), stride=(2, 2), padding=0, dilation=1, ceil_mode=False)\n",
       "    )\n",
       "    (2): ConvolutionBlock(\n",
       "      (conv): Conv2d(16, 16, kernel_size=(3, 3), stride=(1, 1), padding=same)\n",
       "      (batchnorm): BatchNorm2d(16, eps=1e-05, momentum=0.1, affine=True, track_running_stats=True)\n",
       "      (activation): ReLU()\n",
       "      (pooling): MaxPool2d(kernel_size=(2, 2), stride=(2, 2), padding=0, dilation=1, ceil_mode=False)\n",
       "    )\n",
       "    (3): ConvolutionBlock(\n",
       "      (conv): Conv2d(16, 16, kernel_size=(3, 3), stride=(1, 1), padding=same)\n",
       "      (batchnorm): BatchNorm2d(16, eps=1e-05, momentum=0.1, affine=True, track_running_stats=True)\n",
       "      (activation): ReLU()\n",
       "      (pooling): MaxPool2d(kernel_size=(2, 2), stride=(2, 2), padding=0, dilation=1, ceil_mode=False)\n",
       "    )\n",
       "    (4): ConvolutionBlock(\n",
       "      (conv): Conv2d(16, 16, kernel_size=(3, 3), stride=(1, 1), padding=same)\n",
       "      (batchnorm): BatchNorm2d(16, eps=1e-05, momentum=0.1, affine=True, track_running_stats=True)\n",
       "      (activation): ReLU()\n",
       "      (pooling): MaxPool2d(kernel_size=(2, 2), stride=(2, 2), padding=0, dilation=1, ceil_mode=False)\n",
       "    )\n",
       "    (5): ConvolutionBlock(\n",
       "      (conv): Conv2d(16, 16, kernel_size=(3, 3), stride=(1, 1), padding=same)\n",
       "      (batchnorm): BatchNorm2d(16, eps=1e-05, momentum=0.1, affine=True, track_running_stats=True)\n",
       "      (activation): ReLU()\n",
       "      (pooling): MaxPool2d(kernel_size=(2, 2), stride=(2, 2), padding=0, dilation=1, ceil_mode=False)\n",
       "    )\n",
       "    (6): ConvolutionBlock(\n",
       "      (conv): Conv2d(16, 16, kernel_size=(3, 3), stride=(1, 1), padding=same)\n",
       "      (batchnorm): BatchNorm2d(16, eps=1e-05, momentum=0.1, affine=True, track_running_stats=True)\n",
       "      (activation): ReLU()\n",
       "      (pooling): MaxPool2d(kernel_size=(2, 2), stride=(2, 2), padding=0, dilation=1, ceil_mode=False)\n",
       "    )\n",
       "  )\n",
       "  (pooling): MaxPool2d(kernel_size=(2, 2), stride=(2, 2), padding=0, dilation=1, ceil_mode=False)\n",
       "  (flatten): Flatten(start_dim=1, end_dim=-1)\n",
       "  (fc): Linear(in_features=144, out_features=28, bias=True)\n",
       "  (fc2): Linear(in_features=28, out_features=14, bias=True)\n",
       ")"
      ]
     },
     "execution_count": 2,
     "metadata": {},
     "output_type": "execute_result"
    }
   ],
   "source": [
    "PATH = 'saved_models/DenseNet.pt'\n",
    "\n",
    "model = torch.load(PATH)\n",
    "model.eval()"
   ]
  },
  {
   "cell_type": "code",
   "execution_count": 3,
   "id": "195c0b2e",
   "metadata": {},
   "outputs": [
    {
     "name": "stdout",
     "output_type": "stream",
     "text": [
      "LOADING DATASET\n"
     ]
    }
   ],
   "source": [
    "_, _, test_loader = load_dataset(64)"
   ]
  },
  {
   "cell_type": "code",
   "execution_count": 4,
   "id": "83e0f5b8",
   "metadata": {},
   "outputs": [
    {
     "name": "stdout",
     "output_type": "stream",
     "text": [
      "----- Evaluating ------\n"
     ]
    },
    {
     "name": "stderr",
     "output_type": "stream",
     "text": [
      "100%|████████████████████████████████████████████████████████████████████████████████| 176/176 [02:43<00:00,  1.08it/s]\n"
     ]
    }
   ],
   "source": [
    "pos_weight = torch.tensor([9.719982661465107,\n",
    "                                 40.447330447330444,\n",
    "                                 8.425640640264522,\n",
    "                                 5.6423934376729905,\n",
    "                                 19.512704490080054,\n",
    "                                 17.73208919816543,\n",
    "                                 82.86770140428678,\n",
    "                                 21.162702906757268,\n",
    "                                 24.023998285836726,\n",
    "                                 48.68432479374729,\n",
    "                                 44.56279809220986,\n",
    "                                 66.5005931198102,\n",
    "                                 33.122599704579024,\n",
    "                                 493.92070484581495])\n",
    "\n",
    "criterion =  torch.nn.BCEWithLogitsLoss(pos_weight=pos_weight)\n",
    "device = 'cuda'\n",
    "\n",
    "eval_dict  = evaluate(model, test_loader, criterion, device)"
   ]
  },
  {
   "cell_type": "code",
   "execution_count": 5,
   "id": "a433cdc3",
   "metadata": {},
   "outputs": [
    {
     "name": "stdout",
     "output_type": "stream",
     "text": [
      "Eval loss is:1.2192518260668626\n",
      "Eval accuracy is:0.13239424062764676\n",
      "Eval f1 score is:[0.27106292 0.09976526 0.36022119 0.34883561 0.12837433 0.12412928\n",
      " 0.0362962  0.15114773 0.16105709 0.11631095 0.06873614 0.05191473\n",
      " 0.09414048 0.00953406]\n",
      "The average AUROC is 0.699\n",
      "The AUROC of Atelectasis is 0.6869357954519645\n",
      "The AUROC of Cardiomegaly is 0.7375243389271386\n",
      "The AUROC of Effusion is 0.7680720923029584\n",
      "The AUROC of Infiltration is 0.6444424192721708\n",
      "The AUROC of Mass is 0.6175235052563098\n",
      "The AUROC of Nodule is 0.5701688712883661\n",
      "The AUROC of Pneumonia is 0.6673428025880495\n",
      "The AUROC of Pneumothorax is 0.6802118912995292\n",
      "The AUROC of Consolidation is 0.75299415663238\n",
      "The AUROC of Edema is 0.8351334248196116\n",
      "The AUROC of Emphysema is 0.664975882034347\n",
      "The AUROC of Fibrosis is 0.6951509580707766\n",
      "The AUROC of Pleural_Thickening is 0.6527114284576958\n",
      "The AUROC of Hernia is 0.8077522644089569\n"
     ]
    }
   ],
   "source": [
    "N_CLASSES = 14\n",
    "CLASS_NAMES = ['Atelectasis', 'Cardiomegaly', 'Effusion', 'Infiltration', 'Mass', 'Nodule', 'Pneumonia',\n",
    "               'Pneumothorax', 'Consolidation', 'Edema', 'Emphysema', 'Fibrosis', 'Pleural_Thickening', 'Hernia']\n",
    "\n",
    "print(f\"Eval loss is:{eval_dict['loss']}\")\n",
    "print(f\"Eval accuracy is:{eval_dict['acc']}\")\n",
    "print(f\"Eval f1 score is:{eval_dict['f1']}\")\n",
    "\n",
    "AUROCs = compute_AUCs(eval_dict['labels'], eval_dict['logits'])\n",
    "AUROC_avg = np.array(AUROCs).mean()\n",
    "print('The average AUROC is {AUROC_avg:.3f}'.format(AUROC_avg=AUROC_avg))\n",
    "for i in range(N_CLASSES):\n",
    "    print('The AUROC of {} is {}'.format(CLASS_NAMES[i], AUROCs[i]))"
   ]
  },
  {
   "cell_type": "code",
   "execution_count": null,
   "id": "0e943def",
   "metadata": {},
   "outputs": [],
   "source": []
  }
 ],
 "metadata": {
  "kernelspec": {
   "display_name": "Python 3 (ipykernel)",
   "language": "python",
   "name": "python3"
  },
  "language_info": {
   "codemirror_mode": {
    "name": "ipython",
    "version": 3
   },
   "file_extension": ".py",
   "mimetype": "text/x-python",
   "name": "python",
   "nbconvert_exporter": "python",
   "pygments_lexer": "ipython3",
   "version": "3.9.13"
  }
 },
 "nbformat": 4,
 "nbformat_minor": 5
}
